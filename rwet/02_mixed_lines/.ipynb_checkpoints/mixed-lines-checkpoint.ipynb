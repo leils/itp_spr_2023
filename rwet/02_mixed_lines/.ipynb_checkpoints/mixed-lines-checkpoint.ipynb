{
 "cells": [
  {
   "cell_type": "code",
   "execution_count": 12,
   "id": "7209c71a",
   "metadata": {},
   "outputs": [],
   "source": [
    "import random"
   ]
  },
  {
   "cell_type": "code",
   "execution_count": 4,
   "id": "a1c97c39",
   "metadata": {},
   "outputs": [],
   "source": [
    "retrieval = open(\"retrieval.txt\").read()\n",
    "memory = open(\"memory.txt\").read()"
   ]
  },
  {
   "cell_type": "code",
   "execution_count": 5,
   "id": "342e13ca",
   "metadata": {},
   "outputs": [
    {
     "name": "stdout",
     "output_type": "stream",
     "text": [
      "Retrieval-induced distortion;\n",
      "a phenomena in memory \n",
      "where a memory, sweet or sour, \n",
      "changes as you remember it. \n",
      "\n",
      "When you trace the line of your memories\n",
      "Tug the string, pull them from the ether\n",
      "lay them out on the deck \n",
      "and they mutate, stretched thin by your tugging \n",
      "smudged with your fingerprints \n",
      "\n",
      "I remember a day as a toddler\n",
      "a wood-burning stove, warming the house\n",
      "and a frozen winter beyond glass sliding doors. \n",
      "only this memory reads \n",
      "back and forth \n",
      "from a VHS tape. \n"
     ]
    }
   ],
   "source": [
    "print(retrieval)"
   ]
  },
  {
   "cell_type": "code",
   "execution_count": 6,
   "id": "cf019b8c",
   "metadata": {},
   "outputs": [
    {
     "name": "stdout",
     "output_type": "stream",
     "text": [
      "Retrieval-induced forgetting (RIF) is a memory phenomenon \n",
      "where remembering causes forgetting of other information in memory. \n",
      "The phenomenon was first demonstrated in 1994, although the concept of \n",
      "RIF has been previously discussed in the context of retrieval inhibition.\n",
      "\n",
      "RIF is demonstrated through a three-phase experiment consisting of study, \n",
      "practice of some studied material, and a final test of all studied material. \n",
      "Such experiments have also used multiple kinds of final tests including \n",
      "recall using only category cues, recall using category and word stems, \n",
      "and recognition tests. The effect has been produced using many \n",
      "different kinds of materials, can be produced in group settings, \n",
      "and is reduced in special clinical populations.\n"
     ]
    }
   ],
   "source": [
    "print(memory)"
   ]
  },
  {
   "cell_type": "markdown",
   "id": "6c80da73",
   "metadata": {},
   "source": [
    "The above text (memory.txt) is copied from the beginning of the wikipedia article on Retrieval-induced forgetting.\n",
    "The first text (retrieval.txt) is a poem I wrote last summer onretrieval-induced distortion."
   ]
  },
  {
   "cell_type": "code",
   "execution_count": 9,
   "id": "c3fbd028",
   "metadata": {},
   "outputs": [
    {
     "name": "stdout",
     "output_type": "stream",
     "text": [
      "['Retrieval-induced distortion;', 'a phenomena in memory ', 'where a memory, sweet or sour, ', 'changes as you remember it. ', '', 'When you trace the line of your memories', 'Tug the string, pull them from the ether', 'lay them out on the deck ', 'and they mutate, stretched thin by your tugging ', 'smudged with your fingerprints ', '', 'I remember a day as a toddler', 'a wood-burning stove, warming the house', 'and a frozen winter beyond glass sliding doors. ', 'only this memory reads ', 'back and forth ', 'from a VHS tape. ']\n"
     ]
    }
   ],
   "source": [
    "ret_lines = retrieval.split('\\n')\n",
    "print(ret_lines)"
   ]
  },
  {
   "cell_type": "code",
   "execution_count": 10,
   "id": "1d566a27",
   "metadata": {},
   "outputs": [
    {
     "name": "stdout",
     "output_type": "stream",
     "text": [
      "['Retrieval-induced forgetting (RIF) is a memory phenomenon ', 'where remembering causes forgetting of other information in memory. ', 'The phenomenon was first demonstrated in 1994, although the concept of ', 'RIF has been previously discussed in the context of retrieval inhibition.', '', 'RIF is demonstrated through a three-phase experiment consisting of study, ', 'practice of some studied material, and a final test of all studied material. ', 'Such experiments have also used multiple kinds of final tests including ', 'recall using only category cues, recall using category and word stems, ', 'and recognition tests. The effect has been produced using many ', 'different kinds of materials, can be produced in group settings, ', 'and is reduced in special clinical populations.']\n"
     ]
    }
   ],
   "source": [
    "mem_lines = memory.split('\\n')\n",
    "print(mem_lines)"
   ]
  },
  {
   "cell_type": "code",
   "execution_count": 13,
   "id": "31e1ed0a",
   "metadata": {},
   "outputs": [
    {
     "data": {
      "text/plain": [
       "'different kinds of materials, can be produced in group settings, '"
      ]
     },
     "execution_count": 13,
     "metadata": {},
     "output_type": "execute_result"
    }
   ],
   "source": [
    "random.choice(mem_lines)"
   ]
  },
  {
   "cell_type": "code",
   "execution_count": 14,
   "id": "c9231990",
   "metadata": {},
   "outputs": [],
   "source": [
    "while (\"\" in ret_lines):\n",
    "    ret_lines.remove(\"\")\n",
    "    \n",
    "while (\"\" in mem_lines):\n",
    "    mem_lines.remove(\"\")"
   ]
  },
  {
   "cell_type": "code",
   "execution_count": 15,
   "id": "423cd240",
   "metadata": {},
   "outputs": [
    {
     "name": "stdout",
     "output_type": "stream",
     "text": [
      "where a memory, sweet or sour, \n",
      "Retrieval-induced forgetting (RIF) is a memory phenomenon \n",
      "where a memory, sweet or sour, \n",
      "The phenomenon was first demonstrated in 1994, although the concept of \n",
      "and a frozen winter beyond glass sliding doors. \n",
      "different kinds of materials, can be produced in group settings, \n",
      "back and forth \n",
      "RIF is demonstrated through a three-phase experiment consisting of study, \n",
      "a wood-burning stove, warming the house\n",
      "and recognition tests. The effect has been produced using many \n",
      "a wood-burning stove, warming the house\n",
      "and is reduced in special clinical populations.\n"
     ]
    }
   ],
   "source": [
    "num_lines = 12\n",
    "\n",
    "for x in range(num_lines):\n",
    "    if (x % 2) == 0:\n",
    "        print(random.choice(ret_lines))\n",
    "    else:\n",
    "        print(random.choice(mem_lines))\n",
    "        \n"
   ]
  },
  {
   "cell_type": "markdown",
   "id": "126e7fae",
   "metadata": {},
   "source": [
    "Hmm, I actually don't like this very much. How do I remove the repetition?"
   ]
  },
  {
   "cell_type": "code",
   "execution_count": 16,
   "id": "b8b55e18",
   "metadata": {},
   "outputs": [
    {
     "name": "stdout",
     "output_type": "stream",
     "text": [
      "lay them out on the deck \n",
      "RIF has been previously discussed in the context of retrieval inhibition.\n",
      "I remember a day as a toddler\n",
      "different kinds of materials, can be produced in group settings, \n",
      "a wood-burning stove, warming the house\n",
      "Retrieval-induced forgetting (RIF) is a memory phenomenon \n",
      "a phenomena in memory \n",
      "recall using only category cues, recall using category and word stems, \n",
      "When you trace the line of your memories\n",
      "Such experiments have also used multiple kinds of final tests including \n",
      "only this memory reads \n",
      "practice of some studied material, and a final test of all studied material. \n"
     ]
    }
   ],
   "source": [
    "chosen_ret = random.sample(ret_lines, 6)\n",
    "chosen_mem = random.sample(mem_lines, 6)\n",
    "\n",
    "sample_lines = 6\n",
    "\n",
    "for x in range(sample_lines):\n",
    "    print(chosen_ret[x])\n",
    "    print(chosen_mem[x])\n",
    "    "
   ]
  }
 ],
 "metadata": {
  "kernelspec": {
   "display_name": "Python 3 (ipykernel)",
   "language": "python",
   "name": "python3"
  },
  "language_info": {
   "codemirror_mode": {
    "name": "ipython",
    "version": 3
   },
   "file_extension": ".py",
   "mimetype": "text/x-python",
   "name": "python",
   "nbconvert_exporter": "python",
   "pygments_lexer": "ipython3",
   "version": "3.9.13"
  }
 },
 "nbformat": 4,
 "nbformat_minor": 5
}
