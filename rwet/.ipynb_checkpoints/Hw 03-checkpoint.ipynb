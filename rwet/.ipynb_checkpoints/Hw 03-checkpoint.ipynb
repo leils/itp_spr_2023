{
 "cells": [
  {
   "cell_type": "markdown",
   "id": "e9988836",
   "metadata": {},
   "source": [
    "# Homework No. 2, Tracery Grammars\n",
    "\n",
    "Prompt:\n",
    "> The genre study: Choose a genre or form of writing. This can be anything from a literary genre to a meme format. Gather a small number of exemplars of the genre and make a list of the characteristics that are common to all of them. Write a program that produces texts that emulate a particular form or genre of language.\n"
   ]
  },
  {
   "cell_type": "code",
   "execution_count": 1,
   "id": "b716776b",
   "metadata": {},
   "outputs": [],
   "source": [
    "import tracery"
   ]
  },
  {
   "cell_type": "code",
   "execution_count": 6,
   "id": "fd7dd79d",
   "metadata": {},
   "outputs": [],
   "source": [
    "from tracery.modifiers import base_english"
   ]
  },
  {
   "cell_type": "markdown",
   "id": "f2af7d24",
   "metadata": {},
   "source": [
    "First, a bit of a simple one. \"It's like <blank> but for <blank>!\" \n",
    "There's a whole set of tech memes about startups, where all of them are \"Uber but for X\". [This is a good example](https://www.quora.com/Uber-for-X-What-startups-are-working-on-Uber-for-X) of (surprisingly not satire) companies and services that are based on this model.\n",
    "Here's a [Buzzfeed Article](https://www.buzzfeednews.com/article/charliewarzel/like-uber-but-for-jokes) on the same thing.\n",
    "\n",
    "Examples:\n",
    "    - It's Uber, but for food.\n",
    "    - It's Uber, but for books.\n",
    "    - It's Google, but for jobs.\n",
    "    - It's LinkedIn, but for dates.\n",
    "    \n",
    "Pretty straightforward! So here's a quick run of this:\n",
    "The \"things\" are random, pulled from the top of my head. "
   ]
  },
  {
   "cell_type": "code",
   "execution_count": 11,
   "id": "e6a27ad1",
   "metadata": {},
   "outputs": [],
   "source": [
    "rules = {\n",
    "    \"origin\": \"It's like #thing# but for #thing##end_article#\",\n",
    "    \"thing\": [\n",
    "        \"Uber\",\n",
    "        \"Doordash\", \n",
    "        \"the library\",\n",
    "        \"the US government\",\n",
    "        \"timeshares\",\n",
    "        \"Post-its\",\n",
    "        \"the internet\",\n",
    "        \"light bulbs\",\n",
    "        \"couches\",\n",
    "        \"dogs\",\n",
    "        \"Reddit\",\n",
    "        \"Reddit users\",\n",
    "        \"Twitter\",\n",
    "        \"steam boats\",\n",
    "        \"printer paper\",\n",
    "        \"pillows\",\n",
    "        \"blankets\",\n",
    "        \"lamps\",\n",
    "        \"moths\",\n",
    "        \"mosquitos\",\n",
    "        \"computers\",\n",
    "        \"woodworking\",\n",
    "        \"country borders\",\n",
    "        \"Star Trek\",\n",
    "        \"pencils\",\n",
    "        \"LinkedIn\",\n",
    "        \"LastPass\",\n",
    "        \"Violet Go\",\n",
    "        \"Sharpies\",\n",
    "        \"babies\"\n",
    "    ],\n",
    "    \"end_article\": [\n",
    "        \".\",\n",
    "        \"!\",\n",
    "        \"?\"\n",
    "    ]\n",
    "}\n",
    "\n",
    "grammar = tracery.Grammar(rules)"
   ]
  },
  {
   "cell_type": "code",
   "execution_count": 12,
   "id": "e602ae78",
   "metadata": {},
   "outputs": [
    {
     "name": "stdout",
     "output_type": "stream",
     "text": [
      "It's like Star Trek but for steam boats!\n",
      "It's like the US government but for babies?\n",
      "It's like printer paper but for steam boats?\n",
      "It's like pencils but for babies.\n",
      "It's like computers but for Post-its?\n",
      "It's like light bulbs but for Reddit.\n",
      "It's like printer paper but for the library.\n",
      "It's like the library but for Violet Go.\n",
      "It's like Post-its but for Sharpies.\n",
      "It's like dogs but for Uber!\n"
     ]
    }
   ],
   "source": [
    "for i in range(10):\n",
    "    print(grammar.flatten(\"#origin#\"))"
   ]
  },
  {
   "cell_type": "markdown",
   "id": "f74eabd3",
   "metadata": {},
   "source": [
    "Hmm, that's not bad but it's kinda boring. There's probably better ways of doing this.\n",
    "1. I want to pull this list of \"things\" from a database\n",
    "2. I bet Tracery also has something for the end-articles."
   ]
  }
 ],
 "metadata": {
  "kernelspec": {
   "display_name": "Python 3 (ipykernel)",
   "language": "python",
   "name": "python3"
  },
  "language_info": {
   "codemirror_mode": {
    "name": "ipython",
    "version": 3
   },
   "file_extension": ".py",
   "mimetype": "text/x-python",
   "name": "python",
   "nbconvert_exporter": "python",
   "pygments_lexer": "ipython3",
   "version": "3.9.13"
  }
 },
 "nbformat": 4,
 "nbformat_minor": 5
}
