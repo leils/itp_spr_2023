{
 "cells": [
  {
   "cell_type": "code",
   "execution_count": 2,
   "id": "57ab3b64",
   "metadata": {},
   "outputs": [
    {
     "name": "stdout",
     "output_type": "stream",
     "text": [
      "Collecting tracery\n",
      "  Using cached tracery-0.1.1.tar.gz (8.1 kB)\n",
      "  Preparing metadata (setup.py) ... \u001b[?25ldone\n",
      "\u001b[?25hBuilding wheels for collected packages: tracery\n",
      "  Building wheel for tracery (setup.py) ... \u001b[?25ldone\n",
      "\u001b[?25h  Created wheel for tracery: filename=tracery-0.1.1-py3-none-any.whl size=7682 sha256=3a1663cae2f4095b22dbd0701571a2a39a29f415234eef4d98d4111444f8fd26\n",
      "  Stored in directory: /Users/leiachang/Library/Caches/pip/wheels/a3/74/46/553a949119086ada4c0ecf608890fb79513349b9057e514885\n",
      "Successfully built tracery\n",
      "Installing collected packages: tracery\n",
      "Successfully installed tracery-0.1.1\n"
     ]
    }
   ],
   "source": [
    "import sys \n",
    "!{sys.executable} -m pip install tracery"
   ]
  },
  {
   "cell_type": "code",
   "execution_count": 3,
   "id": "1308fe2e",
   "metadata": {},
   "outputs": [],
   "source": [
    "import tracery "
   ]
  },
  {
   "cell_type": "code",
   "execution_count": 4,
   "id": "a40713fd",
   "metadata": {},
   "outputs": [],
   "source": [
    "rules = {\n",
    "    \"origin\": \"#interjection# #name#, I'm a #profession#, not a #profession#!\",\n",
    "    \"name\": [\"Jim\", \"Craig\", \"Bill\", \"Simon\"], \n",
    "    \"profession\": [\"professor\", \"student\", \"writer\", \"doctor\", \"creative\", \"veterinarian\"],\n",
    "    \"interjection\": [\"Goddamnit\", \"Oh hell no\", \"No\", \"Why\", \"Fuck you\", \"Stop it\", \"Please\", \"You're the worst\", \"Thanks\"],\n",
    "}"
   ]
  },
  {
   "cell_type": "code",
   "execution_count": 6,
   "id": "130636b4",
   "metadata": {},
   "outputs": [
    {
     "name": "stdout",
     "output_type": "stream",
     "text": [
      "Oh hell no Bill, I'm a veterinarian, not a creative!\n",
      "Oh hell no Craig, I'm a writer, not a doctor!\n",
      "No Bill, I'm a professor, not a veterinarian!\n",
      "Oh hell no Bill, I'm a veterinarian, not a doctor!\n",
      "Goddamnit Bill, I'm a writer, not a creative!\n",
      "No Bill, I'm a professor, not a professor!\n",
      "No Craig, I'm a doctor, not a veterinarian!\n",
      "Oh hell no Jim, I'm a student, not a creative!\n",
      "No Jim, I'm a doctor, not a writer!\n",
      "No Bill, I'm a student, not a doctor!\n"
     ]
    }
   ],
   "source": [
    "for i in range(10):\n",
    "    grammar = tracery.Grammar(rules)\n",
    "    print(grammar.flatten(\"#origin#\"))"
   ]
  },
  {
   "cell_type": "code",
   "execution_count": null,
   "id": "2252da70",
   "metadata": {},
   "outputs": [],
   "source": []
  }
 ],
 "metadata": {
  "kernelspec": {
   "display_name": "Python 3 (ipykernel)",
   "language": "python",
   "name": "python3"
  },
  "language_info": {
   "codemirror_mode": {
    "name": "ipython",
    "version": 3
   },
   "file_extension": ".py",
   "mimetype": "text/x-python",
   "name": "python",
   "nbconvert_exporter": "python",
   "pygments_lexer": "ipython3",
   "version": "3.9.13"
  }
 },
 "nbformat": 4,
 "nbformat_minor": 5
}
