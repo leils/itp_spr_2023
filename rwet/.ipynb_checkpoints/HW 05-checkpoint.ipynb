{
 "cells": [
  {
   "cell_type": "markdown",
   "id": "5ae29edd",
   "metadata": {},
   "source": [
    "# Homework 05 \n",
    "\n",
    "> Use predictive models to generate text: either a Markov chain or a neural network, or both. How does your choice of source text affect the output? Try combining predictive text with other methods we’ve used for analyzing and generating text: use neural network-generated text to fill Tracery templates, or train a Markov model on the output of parsing parts of speech from a text, or some other combination. What works and what doesn’t? How does neural network-generated text “feel” different from Markov-generated text? How does the length of the n-gram and the unit of the n-gram affect the quality of the output?\n",
    "\n",
    "So, what do I have to work with? \n",
    "- Markov Chains \n",
    "- Neural Networks \n",
    "- Books from Project Gutenberg \n",
    "- Personal Writing "
   ]
  },
  {
   "cell_type": "code",
   "execution_count": null,
   "id": "cab03261",
   "metadata": {},
   "outputs": [],
   "source": []
  }
 ],
 "metadata": {
  "kernelspec": {
   "display_name": "Python 3 (ipykernel)",
   "language": "python",
   "name": "python3"
  },
  "language_info": {
   "codemirror_mode": {
    "name": "ipython",
    "version": 3
   },
   "file_extension": ".py",
   "mimetype": "text/x-python",
   "name": "python",
   "nbconvert_exporter": "python",
   "pygments_lexer": "ipython3",
   "version": "3.9.13"
  }
 },
 "nbformat": 4,
 "nbformat_minor": 5
}
