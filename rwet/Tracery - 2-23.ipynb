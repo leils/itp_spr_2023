{
 "cells": [
  {
   "cell_type": "code",
   "execution_count": 2,
   "id": "6e944803",
   "metadata": {},
   "outputs": [
    {
     "name": "stdout",
     "output_type": "stream",
     "text": [
      "Collecting tracery\n",
      "  Using cached tracery-0.1.1.tar.gz (8.1 kB)\n",
      "  Preparing metadata (setup.py) ... \u001b[?25ldone\n",
      "\u001b[?25hBuilding wheels for collected packages: tracery\n",
      "  Building wheel for tracery (setup.py) ... \u001b[?25ldone\n",
      "\u001b[?25h  Created wheel for tracery: filename=tracery-0.1.1-py3-none-any.whl size=7682 sha256=3a1663cae2f4095b22dbd0701571a2a39a29f415234eef4d98d4111444f8fd26\n",
      "  Stored in directory: /Users/leiachang/Library/Caches/pip/wheels/a3/74/46/553a949119086ada4c0ecf608890fb79513349b9057e514885\n",
      "Successfully built tracery\n",
      "Installing collected packages: tracery\n",
      "Successfully installed tracery-0.1.1\n"
     ]
    }
   ],
   "source": [
    "import sys \n",
    "!{sys.executable} -m pip install tracery"
   ]
  },
  {
   "cell_type": "code",
   "execution_count": 13,
   "id": "b4aa2c4e",
   "metadata": {},
   "outputs": [],
   "source": [
    "import tracery \n",
    "from tracery.modifiers import base_english"
   ]
  },
  {
   "cell_type": "code",
   "execution_count": 21,
   "id": "f3a12229",
   "metadata": {},
   "outputs": [],
   "source": [
    "rules = {\n",
    "    \"origin\": \"#interjection.capitalize# #name#, I'm #profession.a#, not #profession.a#! #interjection.capitalize#!\",\n",
    "    \"name\": [\"Jim\", \"Craig\", \"Bill\", \"Simon\"], \n",
    "    \"profession\": [\"professor\", \"student\", \"writer\", \"doctor\", \"creative\", \"veterinarian\", \"officer\"],\n",
    "    \"interjection\": [\"goddamnit\", \"oh hell no\", \"no\", \"why\", \"fuck you\", \"stop it\", \"please\", \"you're the worst\", \"thanks\", \"thank you\", \"for fuck's sake\"],\n",
    "}"
   ]
  },
  {
   "cell_type": "code",
   "execution_count": 22,
   "id": "730d2e69",
   "metadata": {},
   "outputs": [
    {
     "name": "stdout",
     "output_type": "stream",
     "text": [
      "You're the worst Simon, I'm a student, not an officer! Thanks!\n",
      "No Simon, I'm a professor, not a student! Thanks!\n",
      "You're the worst Bill, I'm a doctor, not a student! Thanks!\n",
      "Thank you Jim, I'm a professor, not a veterinarian! For fuck's sake!\n",
      "Please Bill, I'm a professor, not a creative! Thank you!\n",
      "Fuck you Jim, I'm a veterinarian, not a creative! Fuck you!\n",
      "Goddamnit Bill, I'm a creative, not a student! Oh hell no!\n",
      "Thanks Craig, I'm a veterinarian, not a student! For fuck's sake!\n",
      "Oh hell no Craig, I'm a creative, not a professor! No!\n",
      "Why Craig, I'm a doctor, not an officer! For fuck's sake!\n"
     ]
    }
   ],
   "source": [
    "for i in range(10):\n",
    "    grammar = tracery.Grammar(rules)\n",
    "    grammar.add_modifiers(base_english)\n",
    "    print(grammar.flatten(\"#origin#\"))"
   ]
  },
  {
   "cell_type": "code",
   "execution_count": null,
   "id": "7963bf2d",
   "metadata": {},
   "outputs": [],
   "source": []
  }
 ],
 "metadata": {
  "kernelspec": {
   "display_name": "Python 3 (ipykernel)",
   "language": "python",
   "name": "python3"
  },
  "language_info": {
   "codemirror_mode": {
    "name": "ipython",
    "version": 3
   },
   "file_extension": ".py",
   "mimetype": "text/x-python",
   "name": "python",
   "nbconvert_exporter": "python",
   "pygments_lexer": "ipython3",
   "version": "3.9.13"
  }
 },
 "nbformat": 4,
 "nbformat_minor": 5
}
