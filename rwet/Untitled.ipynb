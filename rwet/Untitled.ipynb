{
 "cells": [
  {
   "cell_type": "markdown",
   "id": "e075ebac",
   "metadata": {},
   "source": [
    "## Class 02 - Notes & Exercises\n",
    "\n",
    "2/2/23, basics of Jupyter and intro to python "
   ]
  },
  {
   "cell_type": "markdown",
   "id": "83338a60",
   "metadata": {},
   "source": [
    "Control, Markdown \n",
    "\n",
    "- ctrl + enter = run cell without moving \n",
    "- shift + enter = run cell and move to next cell \n",
    "- d, d = delete current cell \n",
    "- b = create new cell beneath \n",
    "- a = create new cell above "
   ]
  },
  {
   "cell_type": "markdown",
   "id": "fb56eafd",
   "metadata": {},
   "source": [
    "Remember doing everything in datavis class? "
   ]
  },
  {
   "cell_type": "code",
   "execution_count": 3,
   "id": "271536f9",
   "metadata": {},
   "outputs": [
    {
     "data": {
      "text/plain": [
       "str"
      ]
     },
     "execution_count": 3,
     "metadata": {},
     "output_type": "execute_result"
    }
   ],
   "source": [
    "type('hello')"
   ]
  },
  {
   "cell_type": "code",
   "execution_count": 4,
   "id": "8dd96b74",
   "metadata": {},
   "outputs": [
    {
     "data": {
      "text/plain": [
       "float"
      ]
     },
     "execution_count": 4,
     "metadata": {},
     "output_type": "execute_result"
    }
   ],
   "source": [
    "type(3.14)"
   ]
  },
  {
   "cell_type": "code",
   "execution_count": 5,
   "id": "1ba07bc0",
   "metadata": {},
   "outputs": [
    {
     "data": {
      "text/plain": [
       "int"
      ]
     },
     "execution_count": 5,
     "metadata": {},
     "output_type": "execute_result"
    }
   ],
   "source": [
    "type(2)"
   ]
  },
  {
   "cell_type": "code",
   "execution_count": 6,
   "id": "7c23aaa3",
   "metadata": {},
   "outputs": [
    {
     "data": {
      "text/plain": [
       "float"
      ]
     },
     "execution_count": 6,
     "metadata": {},
     "output_type": "execute_result"
    }
   ],
   "source": [
    "type(2/3)"
   ]
  },
  {
   "cell_type": "markdown",
   "id": "31cb241d",
   "metadata": {},
   "source": [
    "## escape characters! "
   ]
  },
  {
   "cell_type": "code",
   "execution_count": 7,
   "id": "4b306f33",
   "metadata": {},
   "outputs": [],
   "source": [
    "sentence = \"Then he said, \\n oh goodness\""
   ]
  },
  {
   "cell_type": "code",
   "execution_count": 8,
   "id": "86506945",
   "metadata": {},
   "outputs": [
    {
     "data": {
      "text/plain": [
       "'Then he said, \\n oh goodness'"
      ]
     },
     "execution_count": 8,
     "metadata": {},
     "output_type": "execute_result"
    }
   ],
   "source": [
    "sentence"
   ]
  },
  {
   "cell_type": "code",
   "execution_count": 9,
   "id": "d4a3acd8",
   "metadata": {},
   "outputs": [
    {
     "name": "stdout",
     "output_type": "stream",
     "text": [
      "Then he said, \n",
      " oh goodness\n"
     ]
    }
   ],
   "source": [
    "print(sentence)"
   ]
  },
  {
   "cell_type": "code",
   "execution_count": 10,
   "id": "1a81b8fc",
   "metadata": {},
   "outputs": [],
   "source": [
    "secondsentence = \"oh my, there\\'s an escape character\""
   ]
  },
  {
   "cell_type": "code",
   "execution_count": 11,
   "id": "d75c01dc",
   "metadata": {},
   "outputs": [
    {
     "data": {
      "text/plain": [
       "\"oh my, there's an escape character\""
      ]
     },
     "execution_count": 11,
     "metadata": {},
     "output_type": "execute_result"
    }
   ],
   "source": [
    "secondsentence"
   ]
  },
  {
   "cell_type": "code",
   "execution_count": null,
   "id": "49708234",
   "metadata": {},
   "outputs": [],
   "source": []
  }
 ],
 "metadata": {
  "kernelspec": {
   "display_name": "Python 3 (ipykernel)",
   "language": "python",
   "name": "python3"
  },
  "language_info": {
   "codemirror_mode": {
    "name": "ipython",
    "version": 3
   },
   "file_extension": ".py",
   "mimetype": "text/x-python",
   "name": "python",
   "nbconvert_exporter": "python",
   "pygments_lexer": "ipython3",
   "version": "3.9.13"
  }
 },
 "nbformat": 4,
 "nbformat_minor": 5
}
