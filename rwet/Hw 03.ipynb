{
 "cells": [
  {
   "cell_type": "markdown",
   "id": "3589a2b9",
   "metadata": {},
   "source": [
    "# Homework No.3, Tracery Grammars\n",
    "\n",
    "Prompt:\n",
    "> The genre study: Choose a genre or form of writing. This can be anything from a literary genre to a meme format. Gather a small number of exemplars of the genre and make a list of the characteristics that are common to all of them. Write a program that produces texts that emulate a particular form or genre of language.\n"
   ]
  },
  {
   "cell_type": "code",
   "execution_count": 1,
   "id": "ee482d9d",
   "metadata": {},
   "outputs": [],
   "source": [
    "import tracery"
   ]
  },
  {
   "cell_type": "code",
   "execution_count": 6,
   "id": "e7de1e3c",
   "metadata": {},
   "outputs": [],
   "source": [
    "from tracery.modifiers import base_english"
   ]
  },
  {
   "cell_type": "markdown",
   "id": "65c72907",
   "metadata": {},
   "source": [
    "First, a bit of a simple one. \"It's like <blank> but for <blank>!\" \n",
    "There's a whole set of tech memes about startups, where all of them are \"Uber but for X\". [This is a good example](https://www.quora.com/Uber-for-X-What-startups-are-working-on-Uber-for-X) of (surprisingly not satire) companies and services that are based on this model.\n",
    "Here's a [Buzzfeed Article](https://www.buzzfeednews.com/article/charliewarzel/like-uber-but-for-jokes) on the same thing.\n",
    "\n",
    "Examples:\n",
    "    - It's Uber, but for food.\n",
    "    - It's Uber, but for books.\n",
    "    - It's Google, but for jobs.\n",
    "    - It's LinkedIn, but for dates.\n",
    "    \n",
    "Pretty straightforward! So here's a quick run of this:\n",
    "The \"things\" are random, pulled from the top of my head. "
   ]
  },
  {
   "cell_type": "code",
   "execution_count": 11,
   "id": "7b34d48d",
   "metadata": {},
   "outputs": [],
   "source": [
    "rules = {\n",
    "    \"origin\": \"It's like #thing# but for #thing##end_article#\",\n",
    "    \"thing\": [\n",
    "        \"Uber\",\n",
    "        \"Doordash\", \n",
    "        \"the library\",\n",
    "        \"the US government\",\n",
    "        \"timeshares\",\n",
    "        \"Post-its\",\n",
    "        \"the internet\",\n",
    "        \"light bulbs\",\n",
    "        \"couches\",\n",
    "        \"dogs\",\n",
    "        \"Reddit\",\n",
    "        \"Reddit users\",\n",
    "        \"Twitter\",\n",
    "        \"steam boats\",\n",
    "        \"printer paper\",\n",
    "        \"pillows\",\n",
    "        \"blankets\",\n",
    "        \"lamps\",\n",
    "        \"moths\",\n",
    "        \"mosquitos\",\n",
    "        \"computers\",\n",
    "        \"woodworking\",\n",
    "        \"country borders\",\n",
    "        \"Star Trek\",\n",
    "        \"pencils\",\n",
    "        \"LinkedIn\",\n",
    "        \"LastPass\",\n",
    "        \"Violet Go\",\n",
    "        \"Sharpies\",\n",
    "        \"babies\"\n",
    "    ],\n",
    "    \"end_article\": [\n",
    "        \".\",\n",
    "        \"!\",\n",
    "        \"?\"\n",
    "    ]\n",
    "}\n",
    "\n",
    "grammar = tracery.Grammar(rules)"
   ]
  },
  {
   "cell_type": "code",
   "execution_count": 12,
   "id": "1ff00ad1",
   "metadata": {},
   "outputs": [
    {
     "name": "stdout",
     "output_type": "stream",
     "text": [
      "It's like Star Trek but for steam boats!\n",
      "It's like the US government but for babies?\n",
      "It's like printer paper but for steam boats?\n",
      "It's like pencils but for babies.\n",
      "It's like computers but for Post-its?\n",
      "It's like light bulbs but for Reddit.\n",
      "It's like printer paper but for the library.\n",
      "It's like the library but for Violet Go.\n",
      "It's like Post-its but for Sharpies.\n",
      "It's like dogs but for Uber!\n"
     ]
    }
   ],
   "source": [
    "for i in range(10):\n",
    "    print(grammar.flatten(\"#origin#\"))"
   ]
  },
  {
   "cell_type": "markdown",
   "id": "15fc7bcb",
   "metadata": {},
   "source": [
    "Hmm, that's not bad but it's kinda boring. There's probably better ways of doing this.\n",
    "1. I want to pull this list of \"things\" from a database\n",
    "2. I bet Tracery also has something for the end-articles.\n",
    "\n",
    "---"
   ]
  },
  {
   "cell_type": "code",
   "execution_count": 13,
   "id": "8cc3b41f",
   "metadata": {},
   "outputs": [
    {
     "name": "stdout",
     "output_type": "stream",
     "text": [
      "Collecting pycorpora\n",
      "  Downloading pycorpora-0.1.2.tar.gz (6.7 kB)\n",
      "  Preparing metadata (setup.py) ... \u001b[?25ldone\n",
      "\u001b[?25hBuilding wheels for collected packages: pycorpora\n",
      "  Building wheel for pycorpora (setup.py) ... \u001b[?25ldone\n",
      "\u001b[?25h  Created wheel for pycorpora: filename=pycorpora-0.1.2-py3-none-any.whl size=6468 sha256=a46f9acc5e8713bbaeaef2b7b0cdb65f9767e5d732c930f68ddb2f91ca779512\n",
      "  Stored in directory: /Users/leiachang/Library/Caches/pip/wheels/29/9b/65/4355cf5a4ff9cd08317d358146115fba4da00aa2e54f3e9827\n",
      "Successfully built pycorpora\n",
      "Installing collected packages: pycorpora\n",
      "Successfully installed pycorpora-0.1.2\n"
     ]
    }
   ],
   "source": [
    "import sys\n",
    "!{sys.executable} -m pip install pycorpora"
   ]
  },
  {
   "cell_type": "code",
   "execution_count": 27,
   "id": "0e5c4875",
   "metadata": {},
   "outputs": [],
   "source": [
    "import pycorpora"
   ]
  },
  {
   "cell_type": "code",
   "execution_count": 28,
   "id": "a1271473",
   "metadata": {},
   "outputs": [
    {
     "data": {
      "text/plain": [
       "['music',\n",
       " 'societies_and_groups',\n",
       " 'instructions',\n",
       " 'words',\n",
       " 'transportation',\n",
       " 'materials',\n",
       " 'film-tv',\n",
       " 'plants',\n",
       " 'technology',\n",
       " 'art',\n",
       " 'archetypes',\n",
       " 'pycorpora_test',\n",
       " 'psychology',\n",
       " 'science',\n",
       " 'mathematics',\n",
       " 'objects',\n",
       " 'humans',\n",
       " 'books',\n",
       " 'sports',\n",
       " 'architecture',\n",
       " 'religion',\n",
       " 'governments',\n",
       " 'colors',\n",
       " 'mythology',\n",
       " 'animals',\n",
       " 'corporations',\n",
       " 'medicine',\n",
       " 'foods',\n",
       " 'games',\n",
       " 'divination',\n",
       " 'travel',\n",
       " 'geography']"
      ]
     },
     "execution_count": 28,
     "metadata": {},
     "output_type": "execute_result"
    }
   ],
   "source": [
    "pycorpora.get_categories()"
   ]
  },
  {
   "cell_type": "markdown",
   "id": "79873ac4",
   "metadata": {},
   "source": [
    "---\n",
    "Needed to install pycorpora with a data source \n",
    "---"
   ]
  },
  {
   "cell_type": "code",
   "execution_count": 16,
   "id": "612b830f",
   "metadata": {},
   "outputs": [
    {
     "name": "stdout",
     "output_type": "stream",
     "text": [
      "\u001b[33mWARNING: Disabling all use of wheels due to the use of --build-option / --global-option / --install-option.\u001b[0m\u001b[33m\n",
      "\u001b[0mRequirement already satisfied: pycorpora in /Users/leiachang/opt/anaconda3/lib/python3.9/site-packages (0.1.2)\n"
     ]
    }
   ],
   "source": [
    "!{sys.executable} -m pip install pycorpora --install-option=\"--corpora-zip-url=https://github.com/dariusk/corpora/archive/master.zip\""
   ]
  },
  {
   "cell_type": "code",
   "execution_count": 17,
   "id": "5256672f",
   "metadata": {},
   "outputs": [
    {
     "name": "stdout",
     "output_type": "stream",
     "text": [
      "\u001b[33mWARNING: Disabling all use of wheels due to the use of --build-option / --global-option / --install-option.\u001b[0m\u001b[33m\n",
      "\u001b[0mCollecting pycorpora\n",
      "  Using cached pycorpora-0.1.2.tar.gz (6.7 kB)\n",
      "  Preparing metadata (setup.py) ... \u001b[?25ldone\n",
      "\u001b[?25hSkipping wheel build for pycorpora, due to binaries being disabled for it.\n",
      "Installing collected packages: pycorpora\n",
      "  Attempting uninstall: pycorpora\n",
      "    Found existing installation: pycorpora 0.1.2\n",
      "    Uninstalling pycorpora-0.1.2:\n",
      "      Successfully uninstalled pycorpora-0.1.2\n",
      "  Running setup.py install for pycorpora ... \u001b[?25ldone\n",
      "\u001b[?25hSuccessfully installed pycorpora-0.1.2\n"
     ]
    }
   ],
   "source": [
    "!{sys.executable} -m pip install --upgrade --force-reinstall pycorpora --install-option=\"--corpora-zip-url=https://github.com/dariusk/corpora/archive/master.zip\""
   ]
  },
  {
   "cell_type": "code",
   "execution_count": 18,
   "id": "700166ef",
   "metadata": {},
   "outputs": [
    {
     "data": {
      "text/plain": [
       "['music',\n",
       " 'societies_and_groups',\n",
       " 'instructions',\n",
       " 'words',\n",
       " 'transportation',\n",
       " 'materials',\n",
       " 'film-tv',\n",
       " 'plants',\n",
       " 'technology',\n",
       " 'art',\n",
       " 'archetypes',\n",
       " 'pycorpora_test',\n",
       " 'psychology',\n",
       " 'science',\n",
       " 'mathematics',\n",
       " 'objects',\n",
       " 'humans',\n",
       " 'books',\n",
       " 'sports',\n",
       " 'architecture',\n",
       " 'religion',\n",
       " 'governments',\n",
       " 'colors',\n",
       " 'mythology',\n",
       " 'animals',\n",
       " 'corporations',\n",
       " 'medicine',\n",
       " 'foods',\n",
       " 'games',\n",
       " 'divination',\n",
       " 'travel',\n",
       " 'geography']"
      ]
     },
     "execution_count": 18,
     "metadata": {},
     "output_type": "execute_result"
    }
   ],
   "source": [
    "pycorpora.get_categories()"
   ]
  },
  {
   "cell_type": "code",
   "execution_count": 32,
   "id": "4b3dcd41",
   "metadata": {},
   "outputs": [
    {
     "ename": "ImportError",
     "evalue": "cannot import name 'humans' from 'pycorpora' (/Users/leiachang/opt/anaconda3/lib/python3.9/site-packages/pycorpora/__init__.py)",
     "output_type": "error",
     "traceback": [
      "\u001b[0;31m---------------------------------------------------------------------------\u001b[0m",
      "\u001b[0;31mImportError\u001b[0m                               Traceback (most recent call last)",
      "\u001b[0;32m/var/folders/vy/vjml7yy57vx81nzhg651zlqc0000gn/T/ipykernel_11324/3477763114.py\u001b[0m in \u001b[0;36m<module>\u001b[0;34m\u001b[0m\n\u001b[1;32m      1\u001b[0m \u001b[0;32mimport\u001b[0m \u001b[0mrandom\u001b[0m\u001b[0;34m\u001b[0m\u001b[0;34m\u001b[0m\u001b[0m\n\u001b[0;32m----> 2\u001b[0;31m \u001b[0;32mfrom\u001b[0m \u001b[0mpycorpora\u001b[0m \u001b[0;32mimport\u001b[0m \u001b[0mhumans\u001b[0m\u001b[0;34m\u001b[0m\u001b[0;34m\u001b[0m\u001b[0m\n\u001b[0m",
      "\u001b[0;31mImportError\u001b[0m: cannot import name 'humans' from 'pycorpora' (/Users/leiachang/opt/anaconda3/lib/python3.9/site-packages/pycorpora/__init__.py)"
     ]
    }
   ],
   "source": [
    "import random\n",
    "from pycorpora import humans"
   ]
  },
  {
   "cell_type": "code",
   "execution_count": 33,
   "id": "febf2cc6",
   "metadata": {},
   "outputs": [
    {
     "ename": "AttributeError",
     "evalue": "module 'pycorpora' has no attribute 'plants'",
     "output_type": "error",
     "traceback": [
      "\u001b[0;31m---------------------------------------------------------------------------\u001b[0m",
      "\u001b[0;31mAttributeError\u001b[0m                            Traceback (most recent call last)",
      "\u001b[0;32m/var/folders/vy/vjml7yy57vx81nzhg651zlqc0000gn/T/ipykernel_11324/3998469519.py\u001b[0m in \u001b[0;36m<module>\u001b[0;34m\u001b[0m\n\u001b[0;32m----> 1\u001b[0;31m \u001b[0mpycorpora\u001b[0m\u001b[0;34m.\u001b[0m\u001b[0mplants\u001b[0m\u001b[0;34m.\u001b[0m\u001b[0mflowers\u001b[0m\u001b[0;34m[\u001b[0m\u001b[0;34m\"flowers\"\u001b[0m\u001b[0;34m]\u001b[0m\u001b[0;34m\u001b[0m\u001b[0;34m\u001b[0m\u001b[0m\n\u001b[0m",
      "\u001b[0;31mAttributeError\u001b[0m: module 'pycorpora' has no attribute 'plants'"
     ]
    }
   ],
   "source": [
    "pycorpora.plants.flowers[\"flowers\"]"
   ]
  },
  {
   "cell_type": "code",
   "execution_count": null,
   "id": "3d856872",
   "metadata": {},
   "outputs": [],
   "source": [
    "corpora_rules = {\n",
    "    \"origin\": \"It's like #thing# but for #thing#.\",\n",
    "    \"thing\": pycorpora.words."
   ]
  },
  {
   "cell_type": "markdown",
   "id": "146ce006",
   "metadata": {},
   "source": [
    "Well, here's where I got stuck. I'm not sure what's going on here, maybe I used the wrong data source."
   ]
  },
  {
   "cell_type": "code",
   "execution_count": 1,
   "id": "6ac70ef8",
   "metadata": {},
   "outputs": [],
   "source": [
    "import pycorpora"
   ]
  },
  {
   "cell_type": "code",
   "execution_count": 2,
   "id": "190e9c18",
   "metadata": {},
   "outputs": [
    {
     "data": {
      "text/plain": [
       "['__class__',\n",
       " '__delattr__',\n",
       " '__dict__',\n",
       " '__dir__',\n",
       " '__doc__',\n",
       " '__eq__',\n",
       " '__format__',\n",
       " '__ge__',\n",
       " '__getattr__',\n",
       " '__getattribute__',\n",
       " '__getitem__',\n",
       " '__gt__',\n",
       " '__hash__',\n",
       " '__init__',\n",
       " '__init_subclass__',\n",
       " '__le__',\n",
       " '__lt__',\n",
       " '__module__',\n",
       " '__ne__',\n",
       " '__new__',\n",
       " '__reduce__',\n",
       " '__reduce_ex__',\n",
       " '__repr__',\n",
       " '__setattr__',\n",
       " '__sizeof__',\n",
       " '__str__',\n",
       " '__subclasshook__',\n",
       " '__weakref__',\n",
       " 'directory',\n",
       " 'get_categories',\n",
       " 'get_file',\n",
       " 'get_files']"
      ]
     },
     "execution_count": 2,
     "metadata": {},
     "output_type": "execute_result"
    }
   ],
   "source": [
    "dir(pycorpora.colors)"
   ]
  },
  {
   "cell_type": "code",
   "execution_count": null,
   "id": "1ac16c63",
   "metadata": {},
   "outputs": [],
   "source": []
  }
 ],
 "metadata": {
  "kernelspec": {
   "display_name": "Python 3 (ipykernel)",
   "language": "python",
   "name": "python3"
  },
  "language_info": {
   "codemirror_mode": {
    "name": "ipython",
    "version": 3
   },
   "file_extension": ".py",
   "mimetype": "text/x-python",
   "name": "python",
   "nbconvert_exporter": "python",
   "pygments_lexer": "ipython3",
   "version": "3.9.13"
  }
 },
 "nbformat": 4,
 "nbformat_minor": 5
}
