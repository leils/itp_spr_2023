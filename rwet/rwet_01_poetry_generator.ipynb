{
 "cells": [
  {
   "cell_type": "markdown",
   "id": "86fee650",
   "metadata": {},
   "source": [
    "# Generator 01: Randomization of a recipe description from Woks of Life. "
   ]
  },
  {
   "cell_type": "markdown",
   "id": "1a875e97",
   "metadata": {},
   "source": [
    "Randomized text taken from the [Woks of Life](https://thewoksoflife.com/turnip-cake-lo-bak-go/) recipe for Lo Bo Gao, a type of chinese turnip cake. "
   ]
  },
  {
   "cell_type": "code",
   "execution_count": 35,
   "id": "825e9a04",
   "metadata": {},
   "outputs": [
    {
     "name": "stdout",
     "output_type": "stream",
     "text": [
      "on been result, I a long. they’re what\n",
      "was daikon up This delicious dim Day.\n",
      "with called your Japanese been by when\n",
      "they’re choosing in water one indication\n",
      "always very around and too it’s\n",
      "tradition. The cake long, been A a a\n",
      "houses, (sometimes they is a generally\n",
      "but make heavy. a high I I’ve same\n",
      "traditional with etched at it my is\n",
      "savory mind Year’s When turnip a recipe\n",
      "(they bak, 20 believe well often be\n",
      "vegetable which table have is confused\n",
      "could this sum radishes vegetable!).\n",
      "means go kid, top. Chinese the As very\n",
      "This good which bak Chinese always\n",
      "ounces, this, calls sure the or haven’t\n",
      "dish sized turnip/radish, served that lo\n",
      "lo turnip, about green white they for.\n",
      "is New wonderfully content, an sitting\n",
      "as on a radish) showed interchangeable\n",
      "is\n"
     ]
    }
   ],
   "source": [
    "import random\n",
    "import textwrap \n",
    "\n",
    "description = \"\"\"\n",
    "The Chinese turnip, or  lo bak, is a long, white vegetable with a green top. \n",
    "I’ve always been confused by this, but I believe they’re interchangeable \n",
    "with Japanese daikon radishes (they could very well be the same vegetable!). \n",
    "When choosing your turnip/radish, make sure they’re heavy. This means they have \n",
    "a high water content, which is an indication that they haven’t been sitting around \n",
    "too long. A good sized one is generally about 20 ounces, which is what this recipe calls for.\n",
    "This savory turnip cake (sometimes called radish) lo bak go is a very traditional dish \n",
    "often served at dim sum houses, and when I was a kid, it always showed up on the table on \n",
    "Chinese New Year’s Day. As a result, it’s been etched in my mind as a wonderfully delicious tradition.\n",
    "\"\"\"\n",
    "\n",
    "\n",
    "words = description.split()\n",
    "random.shuffle(words)\n",
    "\n",
    "print(textwrap.fill(\" \".join(words), 40))"
   ]
  },
  {
   "cell_type": "markdown",
   "id": "6af742c2",
   "metadata": {},
   "source": [
    "# Generator 02: A Recipe for Recipes? "
   ]
  },
  {
   "cell_type": "code",
   "execution_count": 31,
   "id": "3256977a",
   "metadata": {},
   "outputs": [],
   "source": [
    "import random\n",
    "import textwrap\n",
    "\n",
    "title_ingredient = ['Lo Bo Gao', 'Radish Cakes']\n",
    "\n",
    "base_ingredient = ['Chinese radish', 'daikon', '蘿蔔']\n",
    "\n",
    "meat_ingredient = ['Chinese sausage', 'cured pork belly', 'Lap Cheong', '臘腸']\n",
    "\n",
    "shrimp_ingredient = ['dried shrimp',  'Leia is allergic to shrimp, so none of that', 'baby shrimp']\n",
    "\n",
    "oil_ingredient = [ 'vegetable oil', 'Rapeseed oil', 'avocado oil']\n",
    "\n",
    "tool_container = [ 'metal bowl', 'glass tupperware', 'square baking pan']\n",
    "\n",
    "tool_cutter = [ 'box grater',  'food processor', 'be handy with a knife']"
   ]
  },
  {
   "cell_type": "code",
   "execution_count": 32,
   "id": "7332c9a0",
   "metadata": {},
   "outputs": [],
   "source": [
    "title = random.choice(title_ingredient)\n",
    "base = random.choice(base_ingredient)\n",
    "meat = random.choice(meat_ingredient)\n",
    "shrimp = random.choice(shrimp_ingredient)\n",
    "oil = random.choice(oil_ingredient)\n",
    "tool = random.choice(tool_container)\n",
    "cutter = random.choice(tool_cutter)"
   ]
  },
  {
   "cell_type": "code",
   "execution_count": 36,
   "id": "36611512",
   "metadata": {},
   "outputs": [
    {
     "name": "stdout",
     "output_type": "stream",
     "text": [
      "A recipe for Radish Cakes\n",
      "\n",
      "Ingredients needed: \n",
      "- 蘿蔔\n",
      "- rice flour \n",
      "- cured pork belly\n",
      "- green onions \n",
      "- corn starch \n",
      "- salt \n",
      "- sugar \n",
      "- white pepper\n",
      "- Leia is allergic to shrimp, so none of that\n",
      "- avocado oil\n",
      "\n",
      "Grate your 蘿蔔 and saute it until it releases water and that\n",
      "water evaporates. Remove the 蘿蔔 from the pan, and let\n",
      "cool.Saute your cured pork belly, Leia is allergic to\n",
      "shrimp, so none of that, and green onions with avocado oil.\n",
      "Mix the cooled 蘿蔔 with the flour, salt, cornstarch, sugar,\n",
      "and pepper to make a batter.Pour into an oiled tin and steam\n",
      "for an hour. Cool and slice, serve fried and with oyster\n",
      "sauce on the side.\n"
     ]
    }
   ],
   "source": [
    "import textwrap\n",
    "\n",
    "full_title = 'A recipe for ' + title + '\\n'\n",
    "print(full_title)\n",
    "\n",
    "output = 'Ingredients needed: \\n'\n",
    "output += '- ' + base + '\\n- rice flour \\n'\n",
    "output += '- ' + meat + '\\n- green onions \\n- corn starch \\n- salt \\n- sugar \\n- white pepper\\n'\n",
    "output += '- ' + shrimp + '\\n'\n",
    "output += '- ' + oil + '\\n'\n",
    "print(output)\n",
    "\n",
    "output1 = \"Grate your \" + base + \" and saute it until it releases water and that water evaporates. Remove the \" + base + \" from the pan, and let cool.\"\n",
    "output1 += \"Saute your \" + meat + \", \" + shrimp + \", and green onions with \" + oil + \". \"\n",
    "output1 += \"Mix the cooled \" + base + \" with the flour, salt, cornstarch, sugar, and pepper to make a batter.\"\n",
    "output1 += \"Pour into an oiled tin and steam for an hour. Cool and slice, serve fried and with oyster sauce on the side.\"\n",
    "print(textwrap.fill(output1, 60))\n"
   ]
  },
  {
   "cell_type": "markdown",
   "id": "e0adc6d8",
   "metadata": {},
   "source": [
    "## Documentation\n",
    "\n",
    "In these poetry generators, I aimed to explore both the description and a recipe for a cultural food, Chinese Radish Cakes. \n",
    "\n",
    "---\n",
    "\n",
    "The first generator doesn't differ from the randomization example much except for the vocabulary it's pulling from; this block of text is taken from the Woks of Life, a website dedicated to fairly traditional renditions of Chinese and Taiwanese food that I have learned a great deal of my Chinese cooking from. In this generator I'm not so much looking for wholesale text, but found some interesting generated phrases that will stick with me, such as \n",
    "\n",
    "\"As dish cake\n",
    "with (sometimes which on savory a\n",
    "result\" \n",
    "\n",
    "\"with vegetable A turnip been heavy.\" \n",
    "\n",
    "\"I (a traditional served recipe)\""
   ]
  },
  {
   "cell_type": "markdown",
   "id": "96a43454",
   "metadata": {},
   "source": [
    "---\n",
    "\n",
    "The second is a recipe for making this radish cake. I'm interested in how cultures and experiences change across immigrant generations, and one of the spaces that this is embodied is through the recipes that we cook. Dishes change with their environments, as new ingredients become available, or preferences change, the recipe itself changes as well. Because these recipes are mostly recalled by doing (or speaking) but are rarely written down within a family, the names, the ingredients, and the instructions may change drastically. \n",
    "\n",
    "Here, I'm most curious about swapping out the ingredients listed. All of the text and vocabulary this generator uses are my recordings of variations of this recipe learned from my mother, my experiments, and internet sources such as Woks of Life. \n",
    "\n",
    "---\n",
    "\n",
    "Both of these poetry generators are interesting. I'm very satisfied with the first as a method of generating nonsense that provokes other thoughts. The second is proving more intriguing, and I'd like to try more randomness/generation in the instruction set itself rather than just replacing the ingredient names. "
   ]
  }
 ],
 "metadata": {
  "kernelspec": {
   "display_name": "Python 3 (ipykernel)",
   "language": "python",
   "name": "python3"
  },
  "language_info": {
   "codemirror_mode": {
    "name": "ipython",
    "version": 3
   },
   "file_extension": ".py",
   "mimetype": "text/x-python",
   "name": "python",
   "nbconvert_exporter": "python",
   "pygments_lexer": "ipython3",
   "version": "3.9.13"
  }
 },
 "nbformat": 4,
 "nbformat_minor": 5
}
